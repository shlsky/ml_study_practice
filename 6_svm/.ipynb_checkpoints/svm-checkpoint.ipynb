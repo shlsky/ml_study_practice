{
 "cells": [
  {
   "cell_type": "markdown",
   "metadata": {
    "collapsed": true
   },
   "source": []
  },
  {
   "cell_type": "markdown",
   "metadata": {},
   "source": [
    "支持向量机(SVM)是一种二分类模型，它的基本模型是定义在特征空间上的间隔最大的线性分类器，SVM还包括核技巧，这使它成为实质上的非线性分类器。\n",
    "\n",
    "支持向量机的学习策略就是间隔最大化，可形式化为一个求解凸二次规划的问题，也等价于正则化的合页损失函数的最小化问题。支持向量机的学习算法是求解凸二次规划的最优算法.\n",
    "\n",
    "SVM 包括从简到繁包括三个模型:\n",
    "* 线性可分支持向量机:数据线性可分时，硬间隔最大化学。也叫硬间隔支持向量机\n",
    "* 线性支持向量机：数据近似线性可分时，软间隔最大化学。也叫软间隔支持向量机\n",
    "* 非线性支持向量机：数据线性不可可分时，同过核技巧及软间隔最大化。\n",
    "\n",
    "几个概念：\n",
    "* 支持向量:距离超平面最近的点构成的向量就叫支持向量\n",
    "* 核函数：表示将输入控件映射到特征空得到的特征向量之间的内积。\n",
    "* 函数间隔：$\\hat{\\gamma_i}$\n",
    "SVM核心原理是最小函数间隔等1-$\\theta$ 且使其几何间隔尽可能地大。"
   ]
  },
  {
   "cell_type": "markdown",
   "metadata": {},
   "source": []
  }
 ],
 "metadata": {
  "kernelspec": {
   "display_name": "Python 3",
   "language": "python",
   "name": "python3"
  },
  "language_info": {
   "codemirror_mode": {
    "name": "ipython",
    "version": 3
   },
   "file_extension": ".py",
   "mimetype": "text/x-python",
   "name": "python",
   "nbconvert_exporter": "python",
   "pygments_lexer": "ipython3",
   "version": "3.6.5"
  }
 },
 "nbformat": 4,
 "nbformat_minor": 1
}
