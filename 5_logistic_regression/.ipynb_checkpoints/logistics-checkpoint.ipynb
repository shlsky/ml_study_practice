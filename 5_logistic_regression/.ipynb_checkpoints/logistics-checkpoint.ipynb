{
 "cells": [
  {
   "cell_type": "markdown",
   "metadata": {},
   "source": [
    "逻辑回归（Logistic Regression）是用于处理因变量为分类变量的回归问题，常见的是二分类或二项分布问题，也可以处理多分类问题，它实际上是属于一种分类方法。\n",
    "二分类问题的概率与自变量之间的关系图形往往是一个S型曲线，如图所示，采用的Sigmoid函数实现。\n",
    "\n",
    "对于连续型随机变量x,z(x)是它的函数，$z(x) = w^Tx$\n",
    "\n",
    "Sigmoid函数定义如下：\n",
    "$f(x) = \\frac{1}{1+e^{-z}}$\n",
    "\n",
    "\n",
    "$p(y=1|X)=\\frac{e^{-z}}{1+e^{-z}}$\n",
    "\n",
    "$p(y=0|X)=1- p(y=1|X)=\\frac{1}{1+e^{-z}}$\n",
    "\n",
    "\n",
    "输出Y=1 对数几率$\\log \\frac{p(y=1|X)}{1- p(y=1|X)} =-w^Tx $由$w^Tx$ 线性函数表示的模型。\n",
    "\n",
    "此时面临的一个问题是，模型已知，参数未定的问题。此处使用最大似然估计法来确定模型的参数。\n"
   ]
  },
  {
   "cell_type": "code",
   "execution_count": null,
   "metadata": {},
   "outputs": [],
   "source": [
    "def laodDataSet():\n",
    "    dataMat =[];labelMat=[]\n",
    "    fr = open('testSet.txt')\n",
    "    for line in fr.readlines():\n",
    "        lineArr = line.strip().split()\n",
    "        dataMat.append([1.0,float(lineArr[0]),float(lineArr[1])])\n",
    "        labelMat.append(int(lineArr[2]))\n",
    "    return dataMat,labelMat\n",
    "\n",
    "def sigmoid(inX):\n",
    "    return 1.0/(1+exp(-inX))\n",
    "\n",
    "def gradAscent(dataMatIn,classLabels):\n",
    "    '''梯度下降法'''\n",
    "    dataMat = mat(dataMatIn)\n",
    "    # 矩阵转置\n",
    "    labelMat = mat(classLabels).transpose()\n",
    "    m,n = shape(dataMat)\n",
    "    alpha = 0.001\n",
    "    maxCycles = 500\n",
    "    weights = ones((n,1))\n",
    "    for k in range(maxCycles):\n",
    "        h = sigmoid(dataMat * weights)\n",
    "        error = (labelMat - h)\n",
    "        weights = weights + alpha * dataMat.transpose() * error\n",
    "    return weights\n"
   ]
  }
 ],
 "metadata": {
  "kernelspec": {
   "display_name": "Python 3",
   "language": "python",
   "name": "python3"
  },
  "language_info": {
   "codemirror_mode": {
    "name": "ipython",
    "version": 3
   },
   "file_extension": ".py",
   "mimetype": "text/x-python",
   "name": "python",
   "nbconvert_exporter": "python",
   "pygments_lexer": "ipython3",
   "version": "3.6.5"
  }
 },
 "nbformat": 4,
 "nbformat_minor": 2
}
