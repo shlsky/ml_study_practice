{
 "cells": [
  {
   "cell_type": "code",
   "execution_count": 1,
   "metadata": {},
   "outputs": [
    {
     "name": "stdout",
     "output_type": "stream",
     "text": [
      "[[0.41712589 0.88286155 0.84863581 0.53013122]\n",
      " [0.64762001 0.12013157 0.50565639 0.20796777]\n",
      " [0.17416906 0.28859845 0.87821994 0.40463663]\n",
      " [0.99835478 0.46323301 0.3475973  0.54884675]]\n",
      "[[ 1.00000000e+00 -2.39130722e-16 -2.10398282e-16  8.50626388e-17]\n",
      " [ 1.00311196e-16  1.00000000e+00 -1.66486987e-16 -1.07847857e-16]\n",
      " [-1.53846392e-17  1.20704880e-16  1.00000000e+00 -1.69522711e-16]\n",
      " [ 1.51851663e-17 -5.47239547e-17 -2.44934905e-16  1.00000000e+00]]\n"
     ]
    }
   ],
   "source": [
    "#!/usr/bin/env python\n",
    "# -*- coding: UTF-8 -*-\n",
    "from numpy import *\n",
    "\n",
    "array_2_2 = random.rand(4,4)\n",
    "print(array_2_2)\n",
    "\n",
    "randMat = mat(array_2_2)\n",
    "\n",
    "\n",
    "print(randMat * randMat.I)\n"
   ]
  },
  {
   "cell_type": "code",
   "execution_count": null,
   "metadata": {},
   "outputs": [],
   "source": []
  }
 ],
 "metadata": {
  "kernelspec": {
   "display_name": "Python 3",
   "language": "python",
   "name": "python3"
  },
  "language_info": {
   "codemirror_mode": {
    "name": "ipython",
    "version": 3
   },
   "file_extension": ".py",
   "mimetype": "text/x-python",
   "name": "python",
   "nbconvert_exporter": "python",
   "pygments_lexer": "ipython3",
   "version": "3.6.5"
  }
 },
 "nbformat": 4,
 "nbformat_minor": 1
}
