{
 "cells": [
  {
   "cell_type": "markdown",
   "metadata": {},
   "source": [
    "### 数学距离类型\n",
    "数学上有多种多样的距离，距离表示经验值与目标值的相似度或拟合程度。\n",
    "**所有的\"模型已知，参数未定\"的问题都可以转化为\"以某种距离为损失函数\"的极小化问题\n",
    "\n",
    "#### 一、欧式距离\n",
    "#### 二、相对熵\n",
    "#### 三、闵可夫斯基距离\n",
    "\n"
   ]
  }
 ],
 "metadata": {
  "kernelspec": {
   "display_name": "Python 3",
   "language": "python",
   "name": "python3"
  },
  "language_info": {
   "codemirror_mode": {
    "name": "ipython",
    "version": 3
   },
   "file_extension": ".py",
   "mimetype": "text/x-python",
   "name": "python",
   "nbconvert_exporter": "python",
   "pygments_lexer": "ipython3",
   "version": "3.6.5"
  }
 },
 "nbformat": 4,
 "nbformat_minor": 2
}
